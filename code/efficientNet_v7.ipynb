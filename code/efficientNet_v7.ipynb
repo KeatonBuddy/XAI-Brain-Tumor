{
 "cells": [
  {
   "cell_type": "code",
   "execution_count": 1,
   "metadata": {},
   "outputs": [
    {
     "name": "stderr",
     "output_type": "stream",
     "text": [
      "/home/zzhen268/anaconda3/envs/ai2env/lib/python3.10/site-packages/torchvision/models/_utils.py:208: UserWarning: The parameter 'pretrained' is deprecated since 0.13 and may be removed in the future, please use 'weights' instead.\n",
      "  warnings.warn(\n",
      "/home/zzhen268/anaconda3/envs/ai2env/lib/python3.10/site-packages/torchvision/models/_utils.py:223: UserWarning: Arguments other than a weight enum or `None` for 'weights' are deprecated since 0.13 and may be removed in the future. The current behavior is equivalent to passing `weights=EfficientNet_B0_Weights.IMAGENET1K_V1`. You can also use `weights=EfficientNet_B0_Weights.DEFAULT` to get the most up-to-date weights.\n",
      "  warnings.warn(msg)\n"
     ]
    },
    {
     "name": "stdout",
     "output_type": "stream",
     "text": [
      "Epoch [1/20], Loss: 0.6007, Accuracy: 81.46%\n",
      "Epoch [2/20], Loss: 0.3770, Accuracy: 87.59%\n",
      "Epoch [3/20], Loss: 0.3392, Accuracy: 88.42%\n",
      "Epoch [4/20], Loss: 0.3082, Accuracy: 89.49%\n",
      "Epoch [5/20], Loss: 0.2956, Accuracy: 90.00%\n",
      "Epoch [6/20], Loss: 0.2772, Accuracy: 90.37%\n",
      "Epoch [7/20], Loss: 0.2625, Accuracy: 90.90%\n",
      "Epoch [8/20], Loss: 0.2514, Accuracy: 91.35%\n",
      "Epoch [9/20], Loss: 0.2519, Accuracy: 91.18%\n",
      "Epoch [10/20], Loss: 0.2576, Accuracy: 90.96%\n",
      "Epoch [11/20], Loss: 0.2329, Accuracy: 91.68%\n",
      "Epoch [12/20], Loss: 0.2341, Accuracy: 91.90%\n",
      "Epoch [13/20], Loss: 0.2288, Accuracy: 91.64%\n",
      "Epoch [14/20], Loss: 0.2323, Accuracy: 91.57%\n",
      "Epoch [15/20], Loss: 0.2182, Accuracy: 92.41%\n",
      "Epoch [16/20], Loss: 0.2233, Accuracy: 91.99%\n",
      "Epoch [17/20], Loss: 0.2275, Accuracy: 92.14%\n",
      "Epoch [18/20], Loss: 0.2186, Accuracy: 92.21%\n",
      "Epoch [19/20], Loss: 0.2191, Accuracy: 92.12%\n",
      "Epoch [20/20], Loss: 0.2196, Accuracy: 92.36%\n",
      "Fine-tuned model saved successfully!\n",
      "Test Accuracy: 91.38%\n"
     ]
    }
   ],
   "source": [
    "# Import necessary libraries\n",
    "import os\n",
    "import torch\n",
    "from torchvision import datasets, transforms, models\n",
    "from torch.utils.data import DataLoader, random_split\n",
    "import torch.nn as nn\n",
    "import torch.optim as optim\n",
    "import matplotlib.pyplot as plt\n",
    "from PIL import Image\n",
    "import numpy as np\n",
    "import cv2\n",
    "from sklearn.metrics import classification_report\n",
    "from pathlib import Path\n",
    "\n",
    "# Set device\n",
    "device = torch.device(\"cuda\" if torch.cuda.is_available() else \"cpu\")\n",
    "\n",
    "# Specify directories\n",
    "train_dir = \"../data/Training\"\n",
    "test_dir = \"../data/Testing\"\n",
    "\n",
    "# Transformations for the dataset\n",
    "transform = transforms.Compose([\n",
    "    transforms.Resize((224, 224)),  # Resize images to 224x224\n",
    "    transforms.ToTensor(),\n",
    "    transforms.Normalize(mean=[0.485, 0.456, 0.406], std=[0.229, 0.224, 0.225])  # Normalize\n",
    "])\n",
    "\n",
    "# Load datasets\n",
    "train_dataset = datasets.ImageFolder(root=train_dir, transform=transform)\n",
    "test_dataset = datasets.ImageFolder(root=test_dir, transform=transform)\n",
    "\n",
    "# Split train dataset into training and validation\n",
    "train_size = int(0.8 * len(train_dataset))\n",
    "val_size = len(train_dataset) - train_size\n",
    "train_dataset, val_dataset = random_split(train_dataset, [train_size, val_size])\n",
    "\n",
    "# DataLoaders\n",
    "train_loader = DataLoader(train_dataset, batch_size=32, shuffle=True)\n",
    "val_loader = DataLoader(val_dataset, batch_size=32, shuffle=False)\n",
    "test_loader = DataLoader(test_dataset, batch_size=32, shuffle=False)\n",
    "\n",
    "# Load pre-trained EfficientNet model\n",
    "efficientnet_model = models.efficientnet_b0(pretrained=True)\n",
    "\n",
    "# Freeze all layers except the classifier\n",
    "for param in efficientnet_model.parameters():\n",
    "    param.requires_grad = False\n",
    "\n",
    "# Replace the classifier for 4 classes\n",
    "num_features = efficientnet_model.classifier[1].in_features\n",
    "efficientnet_model.classifier[1] = nn.Linear(num_features, 4)  # 4 classes\n",
    "efficientnet_model = efficientnet_model.to(device)\n",
    "\n",
    "# Only the classifier's parameters will be updated\n",
    "optimizer = optim.Adam(efficientnet_model.classifier[1].parameters(), lr=0.001)\n",
    "criterion = nn.CrossEntropyLoss()\n",
    "\n",
    "# Fine-tuning loop\n",
    "epochs = 20  # Fine-tune for 20 epochs\n",
    "for epoch in range(epochs):\n",
    "    efficientnet_model.train()\n",
    "    running_loss = 0.0\n",
    "    correct = 0\n",
    "    total = 0\n",
    "    for images, labels in train_loader:\n",
    "        images, labels = images.to(device), labels.to(device)\n",
    "\n",
    "        # Zero gradients\n",
    "        optimizer.zero_grad()\n",
    "\n",
    "        # Forward pass\n",
    "        outputs = efficientnet_model(images)\n",
    "        loss = criterion(outputs, labels)\n",
    "\n",
    "        # Backward pass and optimize\n",
    "        loss.backward()\n",
    "        optimizer.step()\n",
    "\n",
    "        # Track loss and accuracy\n",
    "        running_loss += loss.item()\n",
    "        _, predicted = torch.max(outputs, 1)\n",
    "        total += labels.size(0)\n",
    "        correct += (predicted == labels).sum().item()\n",
    "\n",
    "    print(f\"Epoch [{epoch+1}/{epochs}], Loss: {running_loss/len(train_loader):.4f}, Accuracy: {100 * correct / total:.2f}%\")\n",
    "\n",
    "# Save the fine-tuned model\n",
    "checkpoint_path = \"/temp/tumor-detection/checkpoints/efficientnet/efficientnet_full.pth\"\n",
    "#checkpoint_dir = os.path.dirname(checkpoint_path)\n",
    "save_dir = os.path.expanduser('~') + checkpoint_path\n",
    "#checkpoint_path = \"./checkpoint/resnet/resnet_trained.weights.h5\"\n",
    "#checkpoint_dir = os.path.dirname(checkpoint_path)\n",
    "torch.save(efficientnet_model, save_dir)\n",
    "print(\"Fine-tuned model saved successfully!\")\n",
    "\n",
    "# Testing loop with classification report\n",
    "efficientnet_model.eval()\n",
    "test_correct = 0\n",
    "test_total = 0\n",
    "all_preds = []\n",
    "all_labels = []\n",
    "\n",
    "with torch.no_grad():\n",
    "    for images, labels in test_loader:\n",
    "        images, labels = images.to(device), labels.to(device)\n",
    "        outputs = efficientnet_model(images)\n",
    "        _, predicted = torch.max(outputs, 1)\n",
    "        test_total += labels.size(0)\n",
    "        test_correct += (predicted == labels).sum().item()\n",
    "\n",
    "        # Store predictions and labels for classification report\n",
    "        all_preds.extend(predicted.cpu().numpy())\n",
    "        all_labels.extend(labels.cpu().numpy())\n",
    "\n",
    "# Calculate accuracy\n",
    "print(f\"Test Accuracy: {100 * test_correct / test_total:.2f}%\")\n"
   ]
  },
  {
   "cell_type": "code",
   "execution_count": 3,
   "metadata": {},
   "outputs": [
    {
     "name": "stdout",
     "output_type": "stream",
     "text": [
      "Epoch [20/20], Loss: 0.2196, Accuracy: 92.36%\n",
      "Test Accuracy: 91.38%\n"
     ]
    }
   ],
   "source": [
    "print(f\"Epoch [{epoch+1}/{epochs}], Loss: {running_loss/len(train_loader):.4f}, Accuracy: {100 * correct / total:.2f}%\")\n",
    "print(f\"Test Accuracy: {100 * test_correct / test_total:.2f}%\")"
   ]
  },
  {
   "cell_type": "code",
   "execution_count": 5,
   "metadata": {},
   "outputs": [
    {
     "name": "stdout",
     "output_type": "stream",
     "text": [
      "Classification Report:\n",
      "              precision    recall  f1-score   support\n",
      "\n",
      "      glioma       0.97      0.82      0.89       300\n",
      "  meningioma       0.81      0.86      0.83       306\n",
      "     notumor       0.94      0.99      0.97       405\n",
      "   pituitary       0.94      0.96      0.95       300\n",
      "\n",
      "    accuracy                           0.91      1311\n",
      "   macro avg       0.91      0.91      0.91      1311\n",
      "weighted avg       0.92      0.91      0.91      1311\n",
      "\n"
     ]
    }
   ],
   "source": [
    "# Generate classification report\n",
    "report = classification_report(all_labels, all_preds, target_names=train_dataset.dataset.classes)\n",
    "print(\"Classification Report:\")\n",
    "print(report)"
   ]
  },
  {
   "cell_type": "code",
   "execution_count": 2,
   "metadata": {},
   "outputs": [],
   "source": [
    "import os\n",
    "checkpoint_path = \"/temp/tumor-detection/checkpoints/efficientnet/efficientnet_full.pth\"\n",
    "#checkpoint_dir = os.path.dirname(checkpoint_path)\n",
    "ckpt_parent_path = \"/temp/tumor-detection/checkpoints/efficientnet/\"\n",
    "parent_dir = os.path.expanduser('~') + ckpt_parent_path\n",
    "Path(parent_dir).mkdir(parents=True, exist_ok = True)\n",
    "save_dir = os.path.expanduser('~') + checkpoint_path\n",
    "#checkpoint_path = \"./checkpoint/resnet/resnet_trained.weights.h5\"\n",
    "#checkpoint_dir = os.path.dirname(checkpoint_path)\n",
    "torch.save(efficientnet_model, save_dir)"
   ]
  },
  {
   "cell_type": "code",
   "execution_count": 8,
   "metadata": {},
   "outputs": [],
   "source": [
    "torch.save({\n",
    "            'epoch': epoch,\n",
    "            'model_state_dict': efficientnet_model.state_dict(),\n",
    "            'optimizer_state_dict': optimizer.state_dict(),\n",
    "            'loss': running_loss,\n",
    "            }, os.path.expanduser('~') + checkpoint_path + \"_full\")"
   ]
  },
  {
   "cell_type": "code",
   "execution_count": 11,
   "metadata": {},
   "outputs": [],
   "source": [
    "torch.save(optimizer.state_dict(), os.path.expanduser('~') + checkpoint_path + \"_opt\")"
   ]
  },
  {
   "cell_type": "code",
   "execution_count": null,
   "metadata": {},
   "outputs": [],
   "source": []
  }
 ],
 "metadata": {
  "kernelspec": {
   "display_name": "Python 3 (ipykernel)",
   "language": "python",
   "name": "python3"
  },
  "language_info": {
   "codemirror_mode": {
    "name": "ipython",
    "version": 3
   },
   "file_extension": ".py",
   "mimetype": "text/x-python",
   "name": "python",
   "nbconvert_exporter": "python",
   "pygments_lexer": "ipython3",
   "version": "3.10.16"
  }
 },
 "nbformat": 4,
 "nbformat_minor": 4
}
